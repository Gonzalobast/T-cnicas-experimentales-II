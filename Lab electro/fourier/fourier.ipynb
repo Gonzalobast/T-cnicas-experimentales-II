{
 "cells": [
  {
   "cell_type": "code",
   "execution_count": 1,
   "id": "42eb0911-7565-4713-b33c-27c7ebed789c",
   "metadata": {},
   "outputs": [],
   "source": [
    "import matplotlib.pyplot as plt\n",
    "import sympy as sp\n",
    "import numpy as np\n",
    "from math import *"
   ]
  },
  {
   "cell_type": "code",
   "execution_count": 2,
   "id": "8b65e3d6-78bd-4f05-a6c8-80d30324981d",
   "metadata": {},
   "outputs": [
    {
     "name": "stdout",
     "output_type": "stream",
     "text": [
      "0.00235\n"
     ]
    }
   ],
   "source": [
    "l = 0.047\n",
    "\n",
    "print(l*0.05)"
   ]
  },
  {
   "cell_type": "code",
   "execution_count": 3,
   "id": "8d8d5076-574c-498c-bba8-97e3411807be",
   "metadata": {},
   "outputs": [
    {
     "data": {
      "text/latex": [
       "$\\displaystyle \\frac{1}{c_{1} c_{2}} - \\frac{c_{1} + c_{2}}{c_{1}^{2} c_{2}}$"
      ],
      "text/plain": [
       "1/(c_1*c_2) - (c_1 + c_2)/(c_1**2*c_2)"
      ]
     },
     "execution_count": 3,
     "metadata": {},
     "output_type": "execute_result"
    }
   ],
   "source": [
    "c_1, c_2 = sp.symbols('c_1 c_2')\n",
    "\n",
    "C_equiv = (c_1+c_2)/(c_1 * c_2)\n",
    "\n",
    "sp.diff(C_equiv,c_1)"
   ]
  },
  {
   "cell_type": "code",
   "execution_count": 4,
   "id": "f5270364-2d4e-4ac9-a83c-ce87bd58ccd8",
   "metadata": {},
   "outputs": [
    {
     "data": {
      "text/latex": [
       "$\\displaystyle \\frac{1}{c_{1} c_{2}} - \\frac{c_{1} + c_{2}}{c_{1} c_{2}^{2}}$"
      ],
      "text/plain": [
       "1/(c_1*c_2) - (c_1 + c_2)/(c_1*c_2**2)"
      ]
     },
     "execution_count": 4,
     "metadata": {},
     "output_type": "execute_result"
    }
   ],
   "source": [
    "sp.diff(C_equiv,c_2)"
   ]
  },
  {
   "cell_type": "code",
   "execution_count": 5,
   "id": "26379964-9a36-4488-891d-ebcff160b55a",
   "metadata": {},
   "outputs": [
    {
     "name": "stdout",
     "output_type": "stream",
     "text": [
      "2.0625e-08\n"
     ]
    }
   ],
   "source": [
    "c1 = 0.33 * 10**(-6)\n",
    "c2 = 22 * 10**(-9)\n",
    "\n",
    "C = c1*c2/(c1+c2)\n",
    "\n",
    "print(C)"
   ]
  },
  {
   "cell_type": "code",
   "execution_count": 6,
   "id": "8a11df84-ac20-4b59-aad9-eb03542738df",
   "metadata": {},
   "outputs": [
    {
     "name": "stdout",
     "output_type": "stream",
     "text": [
      "5111.804360000121\n"
     ]
    }
   ],
   "source": [
    "f0_t = 1/(2*pi*sqrt(l*C))\n",
    "\n",
    "print(f0_t)"
   ]
  },
  {
   "cell_type": "code",
   "execution_count": 7,
   "id": "ae551354-8c0c-4e1f-bf58-44004d2b7c28",
   "metadata": {},
   "outputs": [
    {
     "name": "stdout",
     "output_type": "stream",
     "text": [
      "70.71067811865476\n"
     ]
    }
   ],
   "source": [
    "s_f0 = 50 #Hercios\n",
    "\n",
    "print(sqrt(2)*s_f0)"
   ]
  },
  {
   "cell_type": "code",
   "execution_count": 8,
   "id": "d7337320-cb5b-4e7d-8dca-a29a07ebbf17",
   "metadata": {},
   "outputs": [
    {
     "name": "stdout",
     "output_type": "stream",
     "text": [
      "28.941176470588236\n",
      "12.04153492024972\n"
     ]
    }
   ],
   "source": [
    "B = 170 #Ancho de banda en Hz\n",
    "s_B = sqrt(2)*50\n",
    "\n",
    "f_0 = 4920\n",
    "\n",
    "s_f_0 = 50\n",
    "\n",
    "Q = f_0/B\n",
    "\n",
    "print(Q)\n",
    "\n",
    "s_Q = sqrt((s_f_0/B)**2 + (f_0*s_B/B**2)**2)\n",
    "\n",
    "print(s_Q)"
   ]
  },
  {
   "cell_type": "code",
   "execution_count": 32,
   "id": "703da43f-39f1-4018-adcb-dd7e3cbc2baf",
   "metadata": {},
   "outputs": [
    {
     "name": "stdout",
     "output_type": "stream",
     "text": [
      "6.1115498147287814\n",
      "0.25464790894703254\n",
      "2.0371832715762603\n",
      "0.08488263631567752\n",
      "1.2223099629457561\n",
      "0.050929581789406514\n"
     ]
    },
    {
     "data": {
      "image/png": "[encoded data removed]",
      "text/plain": [
       "<Figure size 640x480 with 1 Axes>"
      ]
     },
     "metadata": {},
     "output_type": "display_data"
    }
   ],
   "source": [
    "w,n,t,V,T = sp.symbols('w n t V T')\n",
    "\n",
    "#Armónicos onda cuadrada\n",
    "\n",
    "fc_1 = -V*sp.sin(n*w*t)\n",
    "fc_2 = V*sp.sin(n*w*t)\n",
    "\n",
    "ic_1 = sp.integrate(fc_1,(t,-T/2,0))\n",
    "ic_2 = sp.integrate(fc_2,(t,0,T/2))\n",
    "\n",
    "2*(ic_1 + ic_2)/T\n",
    "\n",
    "#Representación de los coeficientes bn de la onda cuadrada\n",
    "\n",
    "k = np.arange(1,10,1)\n",
    "\n",
    "V = 4.8\n",
    "s_V = 0.2\n",
    "\n",
    "#Armónicos teóricos de la onda cuadrada\n",
    "\n",
    "b_ct = []\n",
    "s_b_ct = []\n",
    "\n",
    "for k in range(1,4):\n",
    "    bk = 4/(pi*(2*k-1)) * V\n",
    "    s_bk = 4/(pi*(2*k-1)) * s_V\n",
    "    print(bk)\n",
    "    print(s_bk)\n",
    "    b_ct.append(bk)\n",
    "    s_b_ct.append(s_bk)\n",
    "\n",
    "b_ce = np.array([5.92,1.8,1.19])\n",
    "s_b_ce = np.array([0.2,0.1,0.05])\n",
    "\n",
    "n = np.array([1,3,5])\n",
    "\n",
    "plt.errorbar(n,b_ct,yerr=s_b_ct,marker='o',color='blue',linestyle='None',label='Armónicos teóricos')\n",
    "plt.errorbar(n,b_ce,yerr=s_b_ce,marker='o',color='red',linestyle='None',label='Datos experimentales')\n",
    "plt.xlabel('n')\n",
    "plt.ylabel(r'$b_n \\;(V)$')\n",
    "plt.xticks(range(1,6, 1))\n",
    "plt.legend(loc='upper right')\n",
    "plt.grid(True)\n",
    "\n",
    "plt.savefig('arm_cuadrada.png')"
   ]
  },
  {
   "cell_type": "code",
   "execution_count": null,
   "id": "82cd95a2-7533-44d1-8301-057fd96085a4",
   "metadata": {},
   "outputs": [],
   "source": []
  },
  {
   "cell_type": "code",
   "execution_count": 31,
   "id": "77247ef1-1a7d-452b-9917-a913d6b331a6",
   "metadata": {},
   "outputs": [
    {
     "name": "stdout",
     "output_type": "stream",
     "text": [
      "3.7286195580380297\n",
      "0.16211389382774044\n",
      "0.4142910620042255\n",
      "0.01801265486974894\n",
      "0.1491447823215212\n",
      "0.006484555753109618\n"
     ]
    },
    {
     "data": {
      "image/png": "[encoded data removed]",
      "text/plain": [
       "<Figure size 640x480 with 1 Axes>"
      ]
     },
     "metadata": {},
     "output_type": "display_data"
    }
   ],
   "source": [
    "V = 4.6\n",
    "\n",
    "a_t_t = []\n",
    "s_a_t_t = []\n",
    "\n",
    "for k in range(1,4):\n",
    "    ak = 8/(pi**2*(2*k-1)**2) * V\n",
    "    s_ak = 8/(pi**2*(2*k-1)**2) * s_V\n",
    "    print(ak)\n",
    "    print(s_ak)\n",
    "    a_t_t.append(ak)\n",
    "    s_a_t_t.append(s_ak)\n",
    "\n",
    "a_t_e = np.array([4,0.392,0.166])\n",
    "s_a_t_e = np.array([0.2,0.02,0.005])\n",
    "\n",
    "n = np.array([1,3,5])\n",
    "\n",
    "plt.errorbar(n,a_t_e,yerr=s_a_t_e,marker='o',color='red',linestyle='None',label='Datos experimentales')\n",
    "plt.errorbar(n,a_t_t,yerr=s_a_t_t,marker='o',color='blue',linestyle='None',label='Armónicos teóricos')\n",
    "plt.xlabel('n')\n",
    "plt.ylabel(r'$a_n \\;(V)$')\n",
    "plt.xticks(range(1,6, 1))\n",
    "plt.legend(loc='upper right')\n",
    "plt.grid(True)\n",
    "\n",
    "plt.savefig('arm_triangular.png')"
   ]
  },
  {
   "cell_type": "code",
   "execution_count": 35,
   "id": "2c3689c3-e603-4f18-81d5-deadf9ffb5c7",
   "metadata": {},
   "outputs": [
    {
     "name": "stdout",
     "output_type": "stream",
     "text": [
      "[0.17084476 0.16733949 0.16162522 0.15388785 0.14437609]\n",
      "[0.07768823211289928, 0.07306343070599616, 0.06565252786493825, 0.05589017399245565, 0.04437334484718382]\n"
     ]
    },
    {
     "data": {
      "image/png": "[encoded data removed]",
      "text/plain": [
       "<Figure size 640x480 with 1 Axes>"
      ]
     },
     "metadata": {},
     "output_type": "display_data"
    }
   ],
   "source": [
    "# Delta de Dirac\n",
    "\n",
    "Vd = 1.88\n",
    "s_Vd = 0.2\n",
    "ad = 56*10**(-6)/2\n",
    "s_ad = 25*10**(-6)/2\n",
    "Td = 612*10**(-6)\n",
    "s_Td = 25*10**(-6)\n",
    "\n",
    "nd = np.arange(1,6,1)\n",
    "\n",
    "an_d = 2*Vd*Td/(ad*(nd**2)*(pi**2)) * (np.sin(nd*pi*ad/Td))**2\n",
    "\n",
    "print(an_d)\n",
    "\n",
    "V,T,n,a = sp.symbols('V T n a')\n",
    "\n",
    "sp.integrate((V - V*t/a),(t,0,a))*4/T\n",
    "\n",
    "an = 2*V*T/(a*n**2*sp.pi**2) * (sp.sin(n*sp.pi*a/T))**2\n",
    "\n",
    "der_V = sp.diff(an,V)\n",
    "der_a = sp.diff(an,a)\n",
    "der_T = sp.diff(an,T)\n",
    "\n",
    "inc_an = []\n",
    "\n",
    "for i in range(len(nd)):\n",
    "    d_V = der_V.subs([(V,Vd),(a,ad),(T,Td),(n,nd[i])]).evalf()\n",
    "    d_a = der_a.subs([(V,Vd),(a,ad),(T,Td),(n,nd[i])]).evalf()\n",
    "    d_T = der_T.subs([(V,Vd),(a,ad),(T,Td),(n,nd[i])]).evalf()\n",
    "    inc = sqrt( (d_V*s_Vd)**2 + (d_a*s_ad)**2 + (d_T*s_Td)**2)  \n",
    "    inc_an.append(inc)\n",
    "\n",
    "print(inc_an)\n",
    "\n",
    "an_d_e = np.array([0.216,0.21,0.206,0.203,0.199])\n",
    "\n",
    "plt.errorbar(nd,an_d,yerr=inc_an,marker='o',linestyle='None',color='blue',label='Armónicos teóricos')\n",
    "plt.errorbar(nd,an_d_e,yerr=0.01,marker='o',linestyle='None',color='red',label='Datos experimentales')\n",
    "plt.xlabel('n')\n",
    "plt.ylabel(r'$a_n\\; (V)$')\n",
    "plt.grid(True)\n",
    "plt.xticks(range(1,6, 1))\n",
    "plt.legend(loc='upper right')\n",
    "plt.savefig('pulso_dirac2.png')\n",
    "\n"
   ]
  },
  {
   "cell_type": "code",
   "execution_count": null,
   "id": "4a835c54-7744-4353-ac01-88c3c7e87a4e",
   "metadata": {},
   "outputs": [],
   "source": []
  }
 ],
 "metadata": {
  "kernelspec": {
   "display_name": "Python 3 (ipykernel)",
   "language": "python",
   "name": "python3"
  },
  "language_info": {
   "codemirror_mode": {
    "name": "ipython",
    "version": 3
   },
   "file_extension": ".py",
   "mimetype": "text/x-python",
   "name": "python",
   "nbconvert_exporter": "python",
   "pygments_lexer": "ipython3",
   "version": "3.11.7"
  }
 },
 "nbformat": 4,
 "nbformat_minor": 5
}
