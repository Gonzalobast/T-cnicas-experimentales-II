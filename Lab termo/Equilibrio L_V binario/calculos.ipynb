{
 "cells": [
  {
   "cell_type": "code",
   "execution_count": 1,
   "metadata": {},
   "outputs": [],
   "source": [
    "import numpy as np\n",
    "import matplotlib.pyplot as plt\n",
    "import sympy as sp"
   ]
  },
  {
   "cell_type": "code",
   "execution_count": 5,
   "metadata": {},
   "outputs": [
    {
     "name": "stdout",
     "output_type": "stream",
     "text": [
      "(-2*c + 2*rho)/(2*a*sqrt(-4*a*(c - rho) + b**2)) - (-b + sqrt(-4*a*(c - rho) + b**2))/(2*a**2)\n",
      "(b/sqrt(-4*a*(c - rho) + b**2) - 1)/(2*a)\n",
      "-1/sqrt(-4*a*(c - rho) + b**2)\n"
     ]
    }
   ],
   "source": [
    "a, b, c, rho = sp.symbols(\"a b c rho\", real=True)\n",
    "f = ((-b + sp.sqrt(b**2 - 4*a*(c-rho)))/(2*a))\n",
    "\n",
    "# differntiating function f in respect to a\n",
    "print(sp.diff(f, a))\n",
    "print(sp.diff(f, b))\n",
    "print(sp.diff(f, c))"
   ]
  }
 ],
 "metadata": {
  "kernelspec": {
   "display_name": "Python 3",
   "language": "python",
   "name": "python3"
  },
  "language_info": {
   "codemirror_mode": {
    "name": "ipython",
    "version": 3
   },
   "file_extension": ".py",
   "mimetype": "text/x-python",
   "name": "python",
   "nbconvert_exporter": "python",
   "pygments_lexer": "ipython3",
   "version": "3.11.3"
  }
 },
 "nbformat": 4,
 "nbformat_minor": 2
}
