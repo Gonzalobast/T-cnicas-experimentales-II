{
 "cells": [
  {
   "cell_type": "markdown",
   "metadata": {},
   "source": [
    "# Programa de Ajuste No Lineal"
   ]
  },
  {
   "cell_type": "markdown",
   "metadata": {},
   "source": [
    "Este nb es genérico para realizar un ajuste no lineal. \n",
    "\n",
    "Vamos a usar el paquete optimizado curve.fit que se encuentra en la librería SciPy. Se pude consultar la documentación\n",
    "en esta dirección web\n",
    "https://docs.scipy.org/doc/scipy/reference/generated/scipy.optimize.curve_fit.html#scipy.optimize.curve_fit\n"
   ]
  },
  {
   "cell_type": "markdown",
   "metadata": {
    "heading_collapsed": true
   },
   "source": [
    "### Importamos los paquetes necesarios"
   ]
  },
  {
   "cell_type": "code",
   "execution_count": 2,
   "metadata": {
    "collapsed": true,
    "hidden": true
   },
   "outputs": [
    {
     "ename": "OptionError",
     "evalue": "Pattern matched multiple keys",
     "output_type": "error",
     "traceback": [
      "\u001b[1;31m---------------------------------------------------------------------------\u001b[0m",
      "\u001b[1;31mOptionError\u001b[0m                               Traceback (most recent call last)",
      "\u001b[1;32mc:\\Users\\gbast\\OneDrive\\Escritorio\\Física\\2º\\Técnicas experimentales II\\Lab Mecánica\\Oscilador armónico forzado\\AjusteNoLineal.ipynb Celda 4\u001b[0m line \u001b[0;36m1\n\u001b[0;32m     <a href='vscode-notebook-cell:/c%3A/Users/gbast/OneDrive/Escritorio/F%C3%ADsica/2%C2%BA/T%C3%A9cnicas%20experimentales%20II/Lab%20Mec%C3%A1nica/Oscilador%20arm%C3%B3nico%20forzado/AjusteNoLineal.ipynb#W3sZmlsZQ%3D%3D?line=10'>11</a>\u001b[0m \u001b[39mfrom\u001b[39;00m \u001b[39mIPython\u001b[39;00m\u001b[39m.\u001b[39;00m\u001b[39mdisplay\u001b[39;00m \u001b[39mimport\u001b[39;00m display, Latex\n\u001b[0;32m     <a href='vscode-notebook-cell:/c%3A/Users/gbast/OneDrive/Escritorio/F%C3%ADsica/2%C2%BA/T%C3%A9cnicas%20experimentales%20II/Lab%20Mec%C3%A1nica/Oscilador%20arm%C3%B3nico%20forzado/AjusteNoLineal.ipynb#W3sZmlsZQ%3D%3D?line=12'>13</a>\u001b[0m \u001b[39mimport\u001b[39;00m \u001b[39mpandas\u001b[39;00m \u001b[39mas\u001b[39;00m \u001b[39mpd\u001b[39;00m\n\u001b[1;32m---> <a href='vscode-notebook-cell:/c%3A/Users/gbast/OneDrive/Escritorio/F%C3%ADsica/2%C2%BA/T%C3%A9cnicas%20experimentales%20II/Lab%20Mec%C3%A1nica/Oscilador%20arm%C3%B3nico%20forzado/AjusteNoLineal.ipynb#W3sZmlsZQ%3D%3D?line=13'>14</a>\u001b[0m pd\u001b[39m.\u001b[39;49mset_option(\u001b[39m'\u001b[39;49m\u001b[39mprecision\u001b[39;49m\u001b[39m'\u001b[39;49m, \u001b[39m2\u001b[39;49m)\n",
      "File \u001b[1;32mc:\\Users\\gbast\\AppData\\Local\\Programs\\Python\\Python311\\Lib\\site-packages\\pandas\\_config\\config.py:261\u001b[0m, in \u001b[0;36mCallableDynamicDoc.__call__\u001b[1;34m(self, *args, **kwds)\u001b[0m\n\u001b[0;32m    260\u001b[0m \u001b[39mdef\u001b[39;00m \u001b[39m__call__\u001b[39m(\u001b[39mself\u001b[39m, \u001b[39m*\u001b[39margs, \u001b[39m*\u001b[39m\u001b[39m*\u001b[39mkwds) \u001b[39m-\u001b[39m\u001b[39m>\u001b[39m T:\n\u001b[1;32m--> 261\u001b[0m     \u001b[39mreturn\u001b[39;00m \u001b[39mself\u001b[39;49m\u001b[39m.\u001b[39;49m\u001b[39m__func__\u001b[39;49m(\u001b[39m*\u001b[39;49margs, \u001b[39m*\u001b[39;49m\u001b[39m*\u001b[39;49mkwds)\n",
      "File \u001b[1;32mc:\\Users\\gbast\\AppData\\Local\\Programs\\Python\\Python311\\Lib\\site-packages\\pandas\\_config\\config.py:156\u001b[0m, in \u001b[0;36m_set_option\u001b[1;34m(*args, **kwargs)\u001b[0m\n\u001b[0;32m    153\u001b[0m     \u001b[39mraise\u001b[39;00m \u001b[39mTypeError\u001b[39;00m(\u001b[39mf\u001b[39m\u001b[39m'\u001b[39m\u001b[39m_set_option() got an unexpected keyword argument \u001b[39m\u001b[39m\"\u001b[39m\u001b[39m{\u001b[39;00mkwarg\u001b[39m}\u001b[39;00m\u001b[39m\"\u001b[39m\u001b[39m'\u001b[39m)\n\u001b[0;32m    155\u001b[0m \u001b[39mfor\u001b[39;00m k, v \u001b[39min\u001b[39;00m \u001b[39mzip\u001b[39m(args[::\u001b[39m2\u001b[39m], args[\u001b[39m1\u001b[39m::\u001b[39m2\u001b[39m]):\n\u001b[1;32m--> 156\u001b[0m     key \u001b[39m=\u001b[39m _get_single_key(k, silent)\n\u001b[0;32m    158\u001b[0m     o \u001b[39m=\u001b[39m _get_registered_option(key)\n\u001b[0;32m    159\u001b[0m     \u001b[39mif\u001b[39;00m o \u001b[39mand\u001b[39;00m o\u001b[39m.\u001b[39mvalidator:\n",
      "File \u001b[1;32mc:\\Users\\gbast\\AppData\\Local\\Programs\\Python\\Python311\\Lib\\site-packages\\pandas\\_config\\config.py:123\u001b[0m, in \u001b[0;36m_get_single_key\u001b[1;34m(pat, silent)\u001b[0m\n\u001b[0;32m    121\u001b[0m     \u001b[39mraise\u001b[39;00m OptionError(\u001b[39mf\u001b[39m\u001b[39m\"\u001b[39m\u001b[39mNo such keys(s): \u001b[39m\u001b[39m{\u001b[39;00m\u001b[39mrepr\u001b[39m(pat)\u001b[39m}\u001b[39;00m\u001b[39m\"\u001b[39m)\n\u001b[0;32m    122\u001b[0m \u001b[39mif\u001b[39;00m \u001b[39mlen\u001b[39m(keys) \u001b[39m>\u001b[39m \u001b[39m1\u001b[39m:\n\u001b[1;32m--> 123\u001b[0m     \u001b[39mraise\u001b[39;00m OptionError(\u001b[39m\"\u001b[39m\u001b[39mPattern matched multiple keys\u001b[39m\u001b[39m\"\u001b[39m)\n\u001b[0;32m    124\u001b[0m key \u001b[39m=\u001b[39m keys[\u001b[39m0\u001b[39m]\n\u001b[0;32m    126\u001b[0m \u001b[39mif\u001b[39;00m \u001b[39mnot\u001b[39;00m silent:\n",
      "\u001b[1;31mOptionError\u001b[0m: Pattern matched multiple keys"
     ]
    }
   ],
   "source": [
    "from numpy import *\n",
    "import numpy as np\n",
    "from numpy.linalg import *\n",
    "\n",
    "import scipy.optimize as so\n",
    "\n",
    "import matplotlib.pyplot as plt\n",
    "\n",
    "%matplotlib inline\n",
    "\n",
    "from IPython.display import display, Latex\n",
    "\n",
    "import pandas as pd\n",
    "pd.set_option('precision', 2)"
   ]
  },
  {
   "cell_type": "markdown",
   "metadata": {
    "heading_collapsed": true
   },
   "source": [
    "### En esta celda introducimos nuestros datos $\\{ x_i, y_i \\}$, $i=1,...,n$"
   ]
  },
  {
   "cell_type": "code",
   "execution_count": 1,
   "metadata": {
    "hidden": true
   },
   "outputs": [
    {
     "ename": "NameError",
     "evalue": "name 'array' is not defined",
     "output_type": "error",
     "traceback": [
      "\u001b[1;31m---------------------------------------------------------------------------\u001b[0m",
      "\u001b[1;31mNameError\u001b[0m                                 Traceback (most recent call last)",
      "\u001b[1;32mc:\\Users\\gbast\\OneDrive\\Escritorio\\Física\\2º\\Técnicas experimentales II\\Lab Mecánica\\Oscilador armónico forzado\\AjusteNoLineal.ipynb Celda 6\u001b[0m line \u001b[0;36m1\n\u001b[1;32m----> <a href='vscode-notebook-cell:/c%3A/Users/gbast/OneDrive/Escritorio/F%C3%ADsica/2%C2%BA/T%C3%A9cnicas%20experimentales%20II/Lab%20Mec%C3%A1nica/Oscilador%20arm%C3%B3nico%20forzado/AjusteNoLineal.ipynb#W5sZmlsZQ%3D%3D?line=0'>1</a>\u001b[0m x\u001b[39m=\u001b[39marray([\u001b[39m5.5\u001b[39m,\u001b[39m6\u001b[39m,\u001b[39m6.5\u001b[39m,\u001b[39m7\u001b[39m,\u001b[39m7.5\u001b[39m,\u001b[39m8\u001b[39m,\u001b[39m8.5\u001b[39m,\u001b[39m9\u001b[39m,\u001b[39m9.5\u001b[39m,\u001b[39m10\u001b[39m,\u001b[39m10.5\u001b[39m,\u001b[39m11\u001b[39m,\u001b[39m11.5\u001b[39m,\u001b[39m12\u001b[39m,\u001b[39m12.5\u001b[39m,\u001b[39m13\u001b[39m,\u001b[39m13.5\u001b[39m,\u001b[39m14\u001b[39m,\u001b[39m14.5\u001b[39m,\u001b[39m15\u001b[39m,\u001b[39m15.5\u001b[39m,\n\u001b[0;32m      <a href='vscode-notebook-cell:/c%3A/Users/gbast/OneDrive/Escritorio/F%C3%ADsica/2%C2%BA/T%C3%A9cnicas%20experimentales%20II/Lab%20Mec%C3%A1nica/Oscilador%20arm%C3%B3nico%20forzado/AjusteNoLineal.ipynb#W5sZmlsZQ%3D%3D?line=1'>2</a>\u001b[0m          \u001b[39m16.5\u001b[39m,\u001b[39m17\u001b[39m,\u001b[39m17.5\u001b[39m,\u001b[39m18\u001b[39m,\u001b[39m18.5\u001b[39m,\u001b[39m19\u001b[39m,\u001b[39m19.5\u001b[39m,\u001b[39m20\u001b[39m,\u001b[39m20.5\u001b[39m,\u001b[39m21\u001b[39m,\u001b[39m21.5\u001b[39m,\u001b[39m22\u001b[39m,\u001b[39m22.5\u001b[39m,\u001b[39m23\u001b[39m,\u001b[39m23.5\u001b[39m,\u001b[39m24\u001b[39m,\u001b[39m24.5\u001b[39m,\u001b[39m25\u001b[39m,\u001b[39m25.5\u001b[39m,\u001b[39m26\u001b[39m,\u001b[39m26.5\u001b[39m,\u001b[39m27\u001b[39m,\u001b[39m27.5\u001b[39m,\u001b[39m28\u001b[39m,\u001b[39m28.5\u001b[39m,\u001b[39m29\u001b[39m,\u001b[39m29.5\u001b[39m,\n\u001b[0;32m      <a href='vscode-notebook-cell:/c%3A/Users/gbast/OneDrive/Escritorio/F%C3%ADsica/2%C2%BA/T%C3%A9cnicas%20experimentales%20II/Lab%20Mec%C3%A1nica/Oscilador%20arm%C3%B3nico%20forzado/AjusteNoLineal.ipynb#W5sZmlsZQ%3D%3D?line=2'>3</a>\u001b[0m          \u001b[39m30\u001b[39m,\u001b[39m30.5\u001b[39m,\u001b[39m31\u001b[39m,\u001b[39m31.5\u001b[39m,\u001b[39m32\u001b[39m,\u001b[39m32.5\u001b[39m,\u001b[39m33\u001b[39m])\u001b[39m-\u001b[39m\u001b[39m5.5\u001b[39m\n\u001b[0;32m      <a href='vscode-notebook-cell:/c%3A/Users/gbast/OneDrive/Escritorio/F%C3%ADsica/2%C2%BA/T%C3%A9cnicas%20experimentales%20II/Lab%20Mec%C3%A1nica/Oscilador%20arm%C3%B3nico%20forzado/AjusteNoLineal.ipynb#W5sZmlsZQ%3D%3D?line=3'>4</a>\u001b[0m nx\u001b[39m=\u001b[39m\u001b[39mlen\u001b[39m(x)\n\u001b[0;32m      <a href='vscode-notebook-cell:/c%3A/Users/gbast/OneDrive/Escritorio/F%C3%ADsica/2%C2%BA/T%C3%A9cnicas%20experimentales%20II/Lab%20Mec%C3%A1nica/Oscilador%20arm%C3%B3nico%20forzado/AjusteNoLineal.ipynb#W5sZmlsZQ%3D%3D?line=4'>5</a>\u001b[0m display(\u001b[39m'\u001b[39m\u001b[39mnx1=\u001b[39m\u001b[39m%3.2i\u001b[39;00m\u001b[39m'\u001b[39m\u001b[39m%\u001b[39m nx)\n",
      "\u001b[1;31mNameError\u001b[0m: name 'array' is not defined"
     ]
    }
   ],
   "source": [
    "x=array([5.5,6,6.5,7,7.5,8,8.5,9,9.5,10,10.5,11,11.5,12,12.5,13,13.5,14,14.5,15,15.5,\n",
    "         16.5,17,17.5,18,18.5,19,19.5,20,20.5,21,21.5,22,22.5,23,23.5,24,24.5,25,25.5,26,26.5,27,27.5,28,28.5,29,29.5,\n",
    "         30,30.5,31,31.5,32,32.5,33])-5.5\n",
    "nx=len(x)\n",
    "display('nx1=%3.2i'% nx)\n",
    "\n",
    "\n",
    "y=array([12.25,11,16.5,28,43.5,61.5,80.5,97.25,111,120.5,\n",
    "         124.75,123.75,118,108.25,96,82,68.5,56.5,47.25,41.5,\n",
    "         40,48.5,57,67.25,77.75,87.5,96,101.75,104.75,104.75,\n",
    "         102,96.75,89.75,82,74,67,61.25,57.75,56.25,57.25,60.5,65,70.5,76.75,82.5,87.25,90,93.25,93.75,92.5,89.75,86.25,81.75,77.25,77])\n",
    "ny=len(y)\n",
    "display('ny1=%3.2i'% ny)\n",
    "\n",
    "#the estimated type B error un y\n",
    "uy=array([0.5]*nx) \n",
    "for i in range(0,20):\n",
    "    uy[i]=1"
   ]
  },
  {
   "cell_type": "markdown",
   "metadata": {
    "hidden": true
   },
   "source": [
    "podemos visualizar nuestros datos como una tabla"
   ]
  },
  {
   "cell_type": "code",
   "execution_count": 3,
   "metadata": {
    "hidden": true,
    "scrolled": true
   },
   "outputs": [
    {
     "data": {
      "text/html": [
       "<div>\n",
       "<style>\n",
       "    .dataframe thead tr:only-child th {\n",
       "        text-align: right;\n",
       "    }\n",
       "\n",
       "    .dataframe thead th {\n",
       "        text-align: left;\n",
       "    }\n",
       "\n",
       "    .dataframe tbody tr th {\n",
       "        vertical-align: top;\n",
       "    }\n",
       "</style>\n",
       "<table border=\"1\" class=\"dataframe\">\n",
       "  <thead>\n",
       "    <tr style=\"text-align: right;\">\n",
       "      <th></th>\n",
       "      <th>uy</th>\n",
       "      <th>x</th>\n",
       "      <th>y</th>\n",
       "    </tr>\n",
       "  </thead>\n",
       "  <tbody>\n",
       "    <tr>\n",
       "      <th>1</th>\n",
       "      <td>1.0</td>\n",
       "      <td>0.0</td>\n",
       "      <td>12.25</td>\n",
       "    </tr>\n",
       "    <tr>\n",
       "      <th>2</th>\n",
       "      <td>1.0</td>\n",
       "      <td>0.5</td>\n",
       "      <td>11.00</td>\n",
       "    </tr>\n",
       "    <tr>\n",
       "      <th>3</th>\n",
       "      <td>1.0</td>\n",
       "      <td>1.0</td>\n",
       "      <td>16.50</td>\n",
       "    </tr>\n",
       "    <tr>\n",
       "      <th>4</th>\n",
       "      <td>1.0</td>\n",
       "      <td>1.5</td>\n",
       "      <td>28.00</td>\n",
       "    </tr>\n",
       "    <tr>\n",
       "      <th>5</th>\n",
       "      <td>1.0</td>\n",
       "      <td>2.0</td>\n",
       "      <td>43.50</td>\n",
       "    </tr>\n",
       "    <tr>\n",
       "      <th>6</th>\n",
       "      <td>1.0</td>\n",
       "      <td>2.5</td>\n",
       "      <td>61.50</td>\n",
       "    </tr>\n",
       "    <tr>\n",
       "      <th>7</th>\n",
       "      <td>1.0</td>\n",
       "      <td>3.0</td>\n",
       "      <td>80.50</td>\n",
       "    </tr>\n",
       "    <tr>\n",
       "      <th>8</th>\n",
       "      <td>1.0</td>\n",
       "      <td>3.5</td>\n",
       "      <td>97.25</td>\n",
       "    </tr>\n",
       "    <tr>\n",
       "      <th>9</th>\n",
       "      <td>1.0</td>\n",
       "      <td>4.0</td>\n",
       "      <td>111.00</td>\n",
       "    </tr>\n",
       "    <tr>\n",
       "      <th>10</th>\n",
       "      <td>1.0</td>\n",
       "      <td>4.5</td>\n",
       "      <td>120.50</td>\n",
       "    </tr>\n",
       "    <tr>\n",
       "      <th>11</th>\n",
       "      <td>1.0</td>\n",
       "      <td>5.0</td>\n",
       "      <td>124.75</td>\n",
       "    </tr>\n",
       "    <tr>\n",
       "      <th>12</th>\n",
       "      <td>1.0</td>\n",
       "      <td>5.5</td>\n",
       "      <td>123.75</td>\n",
       "    </tr>\n",
       "    <tr>\n",
       "      <th>13</th>\n",
       "      <td>1.0</td>\n",
       "      <td>6.0</td>\n",
       "      <td>118.00</td>\n",
       "    </tr>\n",
       "    <tr>\n",
       "      <th>14</th>\n",
       "      <td>1.0</td>\n",
       "      <td>6.5</td>\n",
       "      <td>108.25</td>\n",
       "    </tr>\n",
       "    <tr>\n",
       "      <th>15</th>\n",
       "      <td>1.0</td>\n",
       "      <td>7.0</td>\n",
       "      <td>96.00</td>\n",
       "    </tr>\n",
       "    <tr>\n",
       "      <th>16</th>\n",
       "      <td>1.0</td>\n",
       "      <td>7.5</td>\n",
       "      <td>82.00</td>\n",
       "    </tr>\n",
       "    <tr>\n",
       "      <th>17</th>\n",
       "      <td>1.0</td>\n",
       "      <td>8.0</td>\n",
       "      <td>68.50</td>\n",
       "    </tr>\n",
       "    <tr>\n",
       "      <th>18</th>\n",
       "      <td>1.0</td>\n",
       "      <td>8.5</td>\n",
       "      <td>56.50</td>\n",
       "    </tr>\n",
       "    <tr>\n",
       "      <th>19</th>\n",
       "      <td>1.0</td>\n",
       "      <td>9.0</td>\n",
       "      <td>47.25</td>\n",
       "    </tr>\n",
       "    <tr>\n",
       "      <th>20</th>\n",
       "      <td>1.0</td>\n",
       "      <td>9.5</td>\n",
       "      <td>41.50</td>\n",
       "    </tr>\n",
       "    <tr>\n",
       "      <th>21</th>\n",
       "      <td>0.5</td>\n",
       "      <td>10.0</td>\n",
       "      <td>40.00</td>\n",
       "    </tr>\n",
       "    <tr>\n",
       "      <th>22</th>\n",
       "      <td>0.5</td>\n",
       "      <td>11.0</td>\n",
       "      <td>48.50</td>\n",
       "    </tr>\n",
       "    <tr>\n",
       "      <th>23</th>\n",
       "      <td>0.5</td>\n",
       "      <td>11.5</td>\n",
       "      <td>57.00</td>\n",
       "    </tr>\n",
       "    <tr>\n",
       "      <th>24</th>\n",
       "      <td>0.5</td>\n",
       "      <td>12.0</td>\n",
       "      <td>67.25</td>\n",
       "    </tr>\n",
       "    <tr>\n",
       "      <th>25</th>\n",
       "      <td>0.5</td>\n",
       "      <td>12.5</td>\n",
       "      <td>77.75</td>\n",
       "    </tr>\n",
       "    <tr>\n",
       "      <th>26</th>\n",
       "      <td>0.5</td>\n",
       "      <td>13.0</td>\n",
       "      <td>87.50</td>\n",
       "    </tr>\n",
       "    <tr>\n",
       "      <th>27</th>\n",
       "      <td>0.5</td>\n",
       "      <td>13.5</td>\n",
       "      <td>96.00</td>\n",
       "    </tr>\n",
       "    <tr>\n",
       "      <th>28</th>\n",
       "      <td>0.5</td>\n",
       "      <td>14.0</td>\n",
       "      <td>101.75</td>\n",
       "    </tr>\n",
       "    <tr>\n",
       "      <th>29</th>\n",
       "      <td>0.5</td>\n",
       "      <td>14.5</td>\n",
       "      <td>104.75</td>\n",
       "    </tr>\n",
       "    <tr>\n",
       "      <th>30</th>\n",
       "      <td>0.5</td>\n",
       "      <td>15.0</td>\n",
       "      <td>104.75</td>\n",
       "    </tr>\n",
       "    <tr>\n",
       "      <th>31</th>\n",
       "      <td>0.5</td>\n",
       "      <td>15.5</td>\n",
       "      <td>102.00</td>\n",
       "    </tr>\n",
       "    <tr>\n",
       "      <th>32</th>\n",
       "      <td>0.5</td>\n",
       "      <td>16.0</td>\n",
       "      <td>96.75</td>\n",
       "    </tr>\n",
       "    <tr>\n",
       "      <th>33</th>\n",
       "      <td>0.5</td>\n",
       "      <td>16.5</td>\n",
       "      <td>89.75</td>\n",
       "    </tr>\n",
       "    <tr>\n",
       "      <th>34</th>\n",
       "      <td>0.5</td>\n",
       "      <td>17.0</td>\n",
       "      <td>82.00</td>\n",
       "    </tr>\n",
       "    <tr>\n",
       "      <th>35</th>\n",
       "      <td>0.5</td>\n",
       "      <td>17.5</td>\n",
       "      <td>74.00</td>\n",
       "    </tr>\n",
       "    <tr>\n",
       "      <th>36</th>\n",
       "      <td>0.5</td>\n",
       "      <td>18.0</td>\n",
       "      <td>67.00</td>\n",
       "    </tr>\n",
       "    <tr>\n",
       "      <th>37</th>\n",
       "      <td>0.5</td>\n",
       "      <td>18.5</td>\n",
       "      <td>61.25</td>\n",
       "    </tr>\n",
       "    <tr>\n",
       "      <th>38</th>\n",
       "      <td>0.5</td>\n",
       "      <td>19.0</td>\n",
       "      <td>57.75</td>\n",
       "    </tr>\n",
       "    <tr>\n",
       "      <th>39</th>\n",
       "      <td>0.5</td>\n",
       "      <td>19.5</td>\n",
       "      <td>56.25</td>\n",
       "    </tr>\n",
       "    <tr>\n",
       "      <th>40</th>\n",
       "      <td>0.5</td>\n",
       "      <td>20.0</td>\n",
       "      <td>57.25</td>\n",
       "    </tr>\n",
       "    <tr>\n",
       "      <th>41</th>\n",
       "      <td>0.5</td>\n",
       "      <td>20.5</td>\n",
       "      <td>60.50</td>\n",
       "    </tr>\n",
       "    <tr>\n",
       "      <th>42</th>\n",
       "      <td>0.5</td>\n",
       "      <td>21.0</td>\n",
       "      <td>65.00</td>\n",
       "    </tr>\n",
       "    <tr>\n",
       "      <th>43</th>\n",
       "      <td>0.5</td>\n",
       "      <td>21.5</td>\n",
       "      <td>70.50</td>\n",
       "    </tr>\n",
       "    <tr>\n",
       "      <th>44</th>\n",
       "      <td>0.5</td>\n",
       "      <td>22.0</td>\n",
       "      <td>76.75</td>\n",
       "    </tr>\n",
       "    <tr>\n",
       "      <th>45</th>\n",
       "      <td>0.5</td>\n",
       "      <td>22.5</td>\n",
       "      <td>82.50</td>\n",
       "    </tr>\n",
       "    <tr>\n",
       "      <th>46</th>\n",
       "      <td>0.5</td>\n",
       "      <td>23.0</td>\n",
       "      <td>87.25</td>\n",
       "    </tr>\n",
       "    <tr>\n",
       "      <th>47</th>\n",
       "      <td>0.5</td>\n",
       "      <td>23.5</td>\n",
       "      <td>90.00</td>\n",
       "    </tr>\n",
       "    <tr>\n",
       "      <th>48</th>\n",
       "      <td>0.5</td>\n",
       "      <td>24.0</td>\n",
       "      <td>93.25</td>\n",
       "    </tr>\n",
       "    <tr>\n",
       "      <th>49</th>\n",
       "      <td>0.5</td>\n",
       "      <td>24.5</td>\n",
       "      <td>93.75</td>\n",
       "    </tr>\n",
       "    <tr>\n",
       "      <th>50</th>\n",
       "      <td>0.5</td>\n",
       "      <td>25.0</td>\n",
       "      <td>92.50</td>\n",
       "    </tr>\n",
       "    <tr>\n",
       "      <th>51</th>\n",
       "      <td>0.5</td>\n",
       "      <td>25.5</td>\n",
       "      <td>89.75</td>\n",
       "    </tr>\n",
       "    <tr>\n",
       "      <th>52</th>\n",
       "      <td>0.5</td>\n",
       "      <td>26.0</td>\n",
       "      <td>86.25</td>\n",
       "    </tr>\n",
       "    <tr>\n",
       "      <th>53</th>\n",
       "      <td>0.5</td>\n",
       "      <td>26.5</td>\n",
       "      <td>81.75</td>\n",
       "    </tr>\n",
       "    <tr>\n",
       "      <th>54</th>\n",
       "      <td>0.5</td>\n",
       "      <td>27.0</td>\n",
       "      <td>77.25</td>\n",
       "    </tr>\n",
       "    <tr>\n",
       "      <th>55</th>\n",
       "      <td>0.5</td>\n",
       "      <td>27.5</td>\n",
       "      <td>77.00</td>\n",
       "    </tr>\n",
       "  </tbody>\n",
       "</table>\n",
       "</div>"
      ],
      "text/plain": [
       "     uy     x       y\n",
       "1   1.0   0.0   12.25\n",
       "2   1.0   0.5   11.00\n",
       "3   1.0   1.0   16.50\n",
       "4   1.0   1.5   28.00\n",
       "5   1.0   2.0   43.50\n",
       "6   1.0   2.5   61.50\n",
       "7   1.0   3.0   80.50\n",
       "8   1.0   3.5   97.25\n",
       "9   1.0   4.0  111.00\n",
       "10  1.0   4.5  120.50\n",
       "11  1.0   5.0  124.75\n",
       "12  1.0   5.5  123.75\n",
       "13  1.0   6.0  118.00\n",
       "14  1.0   6.5  108.25\n",
       "15  1.0   7.0   96.00\n",
       "16  1.0   7.5   82.00\n",
       "17  1.0   8.0   68.50\n",
       "18  1.0   8.5   56.50\n",
       "19  1.0   9.0   47.25\n",
       "20  1.0   9.5   41.50\n",
       "21  0.5  10.0   40.00\n",
       "22  0.5  11.0   48.50\n",
       "23  0.5  11.5   57.00\n",
       "24  0.5  12.0   67.25\n",
       "25  0.5  12.5   77.75\n",
       "26  0.5  13.0   87.50\n",
       "27  0.5  13.5   96.00\n",
       "28  0.5  14.0  101.75\n",
       "29  0.5  14.5  104.75\n",
       "30  0.5  15.0  104.75\n",
       "31  0.5  15.5  102.00\n",
       "32  0.5  16.0   96.75\n",
       "33  0.5  16.5   89.75\n",
       "34  0.5  17.0   82.00\n",
       "35  0.5  17.5   74.00\n",
       "36  0.5  18.0   67.00\n",
       "37  0.5  18.5   61.25\n",
       "38  0.5  19.0   57.75\n",
       "39  0.5  19.5   56.25\n",
       "40  0.5  20.0   57.25\n",
       "41  0.5  20.5   60.50\n",
       "42  0.5  21.0   65.00\n",
       "43  0.5  21.5   70.50\n",
       "44  0.5  22.0   76.75\n",
       "45  0.5  22.5   82.50\n",
       "46  0.5  23.0   87.25\n",
       "47  0.5  23.5   90.00\n",
       "48  0.5  24.0   93.25\n",
       "49  0.5  24.5   93.75\n",
       "50  0.5  25.0   92.50\n",
       "51  0.5  25.5   89.75\n",
       "52  0.5  26.0   86.25\n",
       "53  0.5  26.5   81.75\n",
       "54  0.5  27.0   77.25\n",
       "55  0.5  27.5   77.00"
      ]
     },
     "metadata": {},
     "output_type": "display_data"
    }
   ],
   "source": [
    "datos = pd.DataFrame({'x': x, 'y': y , 'uy' : uy },index=arange(nx)+1)\n",
    "display(datos)"
   ]
  },
  {
   "cell_type": "markdown",
   "metadata": {
    "heading_collapsed": true
   },
   "source": [
    "### Definimos la función a ajustar"
   ]
  },
  {
   "cell_type": "markdown",
   "metadata": {
    "hidden": true
   },
   "source": [
    "Esta será una función genérica $f(t, p_1,...,p_n)$ donde $t$ es el agrumento y $p_1,...,p_n$ una serie de parámetros.\n",
    "\n",
    "por ejemplo, para una oscilación armónica amortiguada\n",
    "\n",
    "\n",
    "$ y(t, \\omega,\\gamma,A,\\phi,y_0) = y_0 + A e^{-\\gamma t} cos(\\omega t+\\phi)$\n",
    "\n",
    "Donde\n",
    " $\\omega$ es la frecuencia angular,  $\\gamma$ es el coeficiente de amortiguamiento, $A$ la amplitud initial, $\\phi$ una fase inicial y $y_0$ la posición de equilibrio."
   ]
  },
  {
   "cell_type": "code",
   "execution_count": 4,
   "metadata": {
    "collapsed": true,
    "hidden": true
   },
   "outputs": [],
   "source": [
    "# definimos la función, el primer argumento es la variable independiente, y los que siguen son los parámetros.\n",
    "\n",
    "def fun(t,w,gamma,A,phi,y0):\n",
    "    y = y0+ A*np.exp(-gamma*t)*np.cos(w*t+phi)\n",
    "    return y"
   ]
  },
  {
   "cell_type": "code",
   "execution_count": 5,
   "metadata": {
    "collapsed": true,
    "hidden": true
   },
   "outputs": [],
   "source": [
    "# Introducimos valores iniciales arbitrarios para los parámetros que hay que ajustar\n",
    "# par = [w,gamma,A,phi,y0]\n",
    "\n",
    "par   = [0.1 ,1.  ,1. ,0., 0.]"
   ]
  },
  {
   "cell_type": "markdown",
   "metadata": {
    "heading_collapsed": true
   },
   "source": [
    "### Realizamos el ajuste no lineal"
   ]
  },
  {
   "cell_type": "code",
   "execution_count": 7,
   "metadata": {
    "collapsed": true,
    "hidden": true
   },
   "outputs": [],
   "source": [
    "sol = so.curve_fit(fun,x,y,p0=(par),sigma=uy,absolute_sigma=True)\n",
    "\n",
    "# La salida tiene dos arrays: sol[0] con los parámetros  \n",
    "w,gamma,A,phi,y0 = sol[0]\n",
    "\n",
    "# y sol[1] con las incertidumbres. Ésta es una matriz de covarianza. Sí solo queremos las varianzas tomamos la diagonal\n",
    "sw,sgamma,sA,sphi,sy0 = np.sqrt(np.diag(sol[1]))"
   ]
  },
  {
   "cell_type": "code",
   "execution_count": 8,
   "metadata": {
    "hidden": true
   },
   "outputs": [
    {
     "data": {
      "text/latex": [
       "$\\omega$= -0.654 , $\\sigma(\\omega)$= 0.00057"
      ],
      "text/plain": [
       "<IPython.core.display.Latex object>"
      ]
     },
     "metadata": {},
     "output_type": "display_data"
    },
    {
     "data": {
      "text/latex": [
       "$\\gamma$=  0.060 , $\\sigma(\\gamma)$= 0.00052"
      ],
      "text/plain": [
       "<IPython.core.display.Latex object>"
      ]
     },
     "metadata": {},
     "output_type": "display_data"
    },
    {
     "data": {
      "text/latex": [
       "$A$= 67.303 , $\\sigma(A)$= 0.44740"
      ],
      "text/plain": [
       "<IPython.core.display.Latex object>"
      ]
     },
     "metadata": {},
     "output_type": "display_data"
    },
    {
     "data": {
      "text/latex": [
       "$\\phi$= -2.821 , $\\sigma(\\phi)$= 0.00790"
      ],
      "text/plain": [
       "<IPython.core.display.Latex object>"
      ]
     },
     "metadata": {},
     "output_type": "display_data"
    },
    {
     "data": {
      "text/latex": [
       "$y_0$= 77.515 , $\\sigma(y_0)$= 0.08198"
      ],
      "text/plain": [
       "<IPython.core.display.Latex object>"
      ]
     },
     "metadata": {},
     "output_type": "display_data"
    }
   ],
   "source": [
    "display(Latex('$\\omega$= %6.3f , $\\sigma(\\omega)$= %6.5f'%(w,sw)))\n",
    "display(Latex('$\\gamma$= %6.3f , $\\sigma(\\gamma)$= %6.5f'%(gamma,sgamma)))\n",
    "display(Latex('$A$= %6.3f , $\\sigma(A)$= %6.5f'%(A,sA)))\n",
    "display(Latex('$\\phi$= %6.3f , $\\sigma(\\phi)$= %6.5f'%(phi,sphi)))\n",
    "display(Latex('$y_0$= %6.3f , $\\sigma(y_0)$= %6.5f'%(y0,sy0)))"
   ]
  },
  {
   "cell_type": "code",
   "execution_count": 9,
   "metadata": {
    "collapsed": true,
    "hidden": true
   },
   "outputs": [],
   "source": [
    "# la función estimada\n",
    "yEst=fun(x,w,gamma,A,phi,y0) "
   ]
  },
  {
   "cell_type": "markdown",
   "metadata": {
    "heading_collapsed": true
   },
   "source": [
    "### Graficamos los datos y la curva obtenida"
   ]
  },
  {
   "cell_type": "code",
   "execution_count": 10,
   "metadata": {
    "hidden": true
   },
   "outputs": [
    {
     "data": {
      "image/png": "[encoded data removed]",
      "text/plain": [
       "<matplotlib.figure.Figure at 0x114064c50>"
      ]
     },
     "metadata": {},
     "output_type": "display_data"
    }
   ],
   "source": [
    "plt.plot(x,y, 'b.')\n",
    "plt.plot(x,yEst,'b-')\n",
    "plt.plot(x,y0+0.*x,'b')\n",
    "plt.grid()"
   ]
  },
  {
   "cell_type": "code",
   "execution_count": null,
   "metadata": {
    "collapsed": true,
    "hidden": true
   },
   "outputs": [],
   "source": []
  }
 ],
 "metadata": {
  "anaconda-cloud": {},
  "kernelspec": {
   "display_name": "Python 3",
   "language": "python",
   "name": "python3"
  },
  "language_info": {
   "codemirror_mode": {
    "name": "ipython",
    "version": 3
   },
   "file_extension": ".py",
   "mimetype": "text/x-python",
   "name": "python",
   "nbconvert_exporter": "python",
   "pygments_lexer": "ipython3",
   "version": "3.11.3"
  },
  "varInspector": {
   "cols": {
    "lenName": 16,
    "lenType": 16,
    "lenVar": 40
   },
   "kernels_config": {
    "python": {
     "delete_cmd_postfix": "",
     "delete_cmd_prefix": "del ",
     "library": "var_list.py",
     "varRefreshCmd": "print(var_dic_list())"
    },
    "r": {
     "delete_cmd_postfix": ") ",
     "delete_cmd_prefix": "rm(",
     "library": "var_list.r",
     "varRefreshCmd": "cat(var_dic_list()) "
    }
   },
   "types_to_exclude": [
    "module",
    "function",
    "builtin_function_or_method",
    "instance",
    "_Feature"
   ],
   "window_display": false
  }
 },
 "nbformat": 4,
 "nbformat_minor": 1
}
