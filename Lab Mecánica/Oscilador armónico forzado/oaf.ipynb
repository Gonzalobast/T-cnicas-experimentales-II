{
 "cells": [
  {
   "cell_type": "code",
   "execution_count": 1,
   "metadata": {},
   "outputs": [],
   "source": [
    "import numpy as np\n",
    "from matplotlib.pyplot import *\n",
    "from math import *"
   ]
  },
  {
   "cell_type": "code",
   "execution_count": 2,
   "metadata": {},
   "outputs": [],
   "source": [
    "def VariasMedidas(x):   \n",
    "    k = 2 #Factor de cobertura\n",
    "    \n",
    "    sb = float(input('Introduce la incertidumbre de tipo B: '))\n",
    "    \n",
    "    media1 = np.mean(x)\n",
    "    desviacion1 = np.std(x)\n",
    "    n = len(x)\n",
    "    \n",
    "    #Vamos a crear el intervalo de confianza\n",
    "    \n",
    "    limInferior = media1 - k*desviacion1\n",
    "    limSuperior = media1 + k*desviacion1\n",
    "    \n",
    "    datos=[];excluidos=[]\n",
    "    \n",
    "    for i in range(n):\n",
    "        if ((x[i] >= limInferior) and (x[i] <= limSuperior)):\n",
    "            datos.append(x[i])  #Lista con los datos filtrados\n",
    "        else:\n",
    "            excluidos.append(x[i])  #Lista con los datos excluidos\n",
    "            \n",
    "    media2 = np.mean(datos)    #Nuevo valor de la media\n",
    "    \n",
    "    sa = np.std(datos)/sqrt(len(datos)) #Incertidumbre de tipo a de la media\n",
    "    \n",
    "    sc = sqrt(sa**2 + sb**2)    #Incertidumbre combinada\n",
    "\n",
    "    print(f'Datos de la muestra:')\n",
    "    print(f'media inicial: {media1}')\n",
    "    print(f'Desv tipica inicial: {desviacion1}')\n",
    "    print(f'sb: {sb}')\n",
    "    print(f'Datos excluidos: {excluidos}')\n",
    "    print(f'Datos finales: {datos}')\n",
    "    print(f'Media final: {media2}')\n",
    "    print(f'Desv tipica final de la muestra: {np.std(datos)}')\n",
    "    print(f'sa de la media {sa}')\n",
    "    print(f'sc de la muestra: {sc}')\n",
    "    \n",
    "    return (sa,sb,sc,media2,np.std(datos),excluidos,datos,media1,desviacion1)"
   ]
  },
  {
   "cell_type": "code",
   "execution_count": 3,
   "metadata": {},
   "outputs": [],
   "source": [
    "def frecuencia(t,st,n):\n",
    "    omega1 = 2*pi*n/t \n",
    "    s_omega1 = st/(t**2)\n",
    "    print('La frecuencia es ',omega1,' y la incertidumbre es ',s_omega1)\n",
    "    return(omega1,s_omega1)"
   ]
  },
  {
   "cell_type": "code",
   "execution_count": 4,
   "metadata": {},
   "outputs": [
    {
     "name": "stdout",
     "output_type": "stream",
     "text": [
      "Datos de la muestra:\n",
      "media inicial: 56.6125\n",
      "Desv tipica inicial: 0.23370654676324304\n",
      "sb: 0.5\n",
      "Datos excluidos: []\n",
      "Datos finales: [56.73, 56.83, 56.22, 56.67]\n",
      "Media final: 56.6125\n",
      "Desv tipica final de la muestra: 0.23370654676324304\n",
      "sa de la media 0.11685327338162152\n",
      "sc de la muestra: 0.5134731614213152\n",
      "La frecuencia es  3.3295749033409154  y la incertidumbre es  7.291992460768176e-05\n",
      "El periodo es 0.30033864052633086\n"
     ]
    }
   ],
   "source": [
    "I0 = np.array([56.73, 56.83, 56.22, 56.67])\n",
    "\n",
    "mediaI0 = VariasMedidas(I0)\n",
    "\n",
    "fI0 = frecuencia(float(mediaI0[3]),float(mediaI0[4]),30)\n",
    "\n",
    "print('El periodo es',2*pi/fI0[0])"
   ]
  },
  {
   "cell_type": "code",
   "execution_count": 18,
   "metadata": {},
   "outputs": [
    {
     "name": "stdout",
     "output_type": "stream",
     "text": [
      "[5.00000000e+01 1.38575531e+00 3.46438828e-01 1.53972812e-01\n",
      " 8.66097070e-02 5.54302125e-02 3.84932031e-02 2.82807207e-02\n",
      " 2.16524268e-02 1.71080903e-02]\n"
     ]
    }
   ],
   "source": [
    "T0 = 0.300339*2\n",
    "\n",
    "x0 = []\n",
    "\n",
    "y0=np.array([18,17.8, 17, 16.6, 16.2, 15.8, 15.4, 15.2, 14.8, 14.4])\n",
    "\n",
    "for i in range (10):\n",
    "    x0.append(T0*i)\n",
    "\n",
    "\n",
    "x0 = np.array([0.1, 0.600678, 1.201356, 1.8020340000000001, 2.402712, 3.0033900000000004, 3.6040680000000003, 4.204746, 4.805424, 5.406102000000001])\n",
    "\n",
    "yerror = 0.2\n",
    "\n",
    "print(np.array(yerror))\n"
   ]
  },
  {
   "cell_type": "code",
   "execution_count": 19,
   "metadata": {},
   "outputs": [
    {
     "name": "stdout",
     "output_type": "stream",
     "text": [
      "Datos de la muestra:\n",
      "media inicial: 18.692\n",
      "Desv tipica inicial: 0.08158431221748436\n",
      "sb: 0.5\n",
      "Datos excluidos: []\n",
      "Datos finales: [18.7, 18.6, 18.6, 18.76, 18.8]\n",
      "Media final: 18.692\n",
      "Desv tipica final de la muestra: 0.08158431221748436\n",
      "sa de la media 0.036485613603172325\n",
      "sc de la muestra: 0.5013294326089383\n",
      "La frecuencia es  3.3614301878769455  y la incertidumbre es  0.00023350442333685162\n",
      "El periodo es 0.2974924196273708\n"
     ]
    }
   ],
   "source": [
    "I3 = np.array([18.7,18.6,18.6,18.76,18.80])\n",
    "\n",
    "mediaI3 = VariasMedidas(I3)\n",
    "\n",
    "fI3 = frecuencia(float(mediaI3[3]),float(mediaI3[4]),10)\n",
    "\n",
    "print('El periodo es',1/fI3[0])"
   ]
  },
  {
   "cell_type": "code",
   "execution_count": 20,
   "metadata": {},
   "outputs": [
    {
     "name": "stdout",
     "output_type": "stream",
     "text": [
      "[0.0, 0.300339, 0.600678, 0.9010170000000001, 1.201356, 1.5016950000000002, 1.8020340000000001, 2.102373, 2.402712, 2.7030510000000003, 3.0033900000000004, 3.303729, 3.6040680000000003, 3.9044070000000004]\n",
      "0.2\n"
     ]
    }
   ],
   "source": [
    "T3 = 0.300339\n",
    "\n",
    "x3 = [0.0, 0.300339, 0.600678, 0.9010170000000001, 1.201356, 1.5016950000000002, 1.8020340000000001, 2.102373, 2.402712, 2.7030510000000003, 3.0033900000000004, 3.303729, 3.6040680000000003, 3.9044070000000004]\n",
    "\n",
    "y3=np.array([18,14.8,12.4,10.2,8.6,7,5.8,4.6,3.8,3.2,2.8,2.2,1.8,1.2])\n",
    "\n",
    "for i in range (14):\n",
    "    x3.append(T0*i)\n",
    "\n",
    "\n",
    "print(x3)\n",
    "\n",
    "yerror = 0.2\n",
    "\n",
    "print(np.array(yerror))"
   ]
  },
  {
   "cell_type": "code",
   "execution_count": 21,
   "metadata": {},
   "outputs": [
    {
     "name": "stdout",
     "output_type": "stream",
     "text": [
      "Datos de la muestra:\n",
      "media inicial: 12.559999999999999\n",
      "Desv tipica inicial: 0.24437675830569458\n",
      "sb: 0.5\n",
      "Datos excluidos: []\n",
      "Datos finales: [12.72, 12.67, 12.21, 12.86, 12.34]\n",
      "Media final: 12.559999999999999\n",
      "Desv tipica final de la muestra: 0.24437675830569458\n",
      "sa de la media 0.10928860873851387\n",
      "sc de la muestra: 0.5118046502328794\n",
      "La frecuencia es  3.5017752508166486  y la incertidumbre es  0.0015491041618428652\n",
      "El periodo es 0.2855694407477436\n"
     ]
    }
   ],
   "source": [
    "I6 = np.array([12.72,12.67,12.21,12.86,12.34])\n",
    "\n",
    "mediaI6 = VariasMedidas(I6)\n",
    "\n",
    "fI6 = frecuencia(float(mediaI6[3]),float(mediaI6[4]),7)\n",
    "\n",
    "print('El periodo es',1/fI6[0])"
   ]
  },
  {
   "cell_type": "code",
   "execution_count": 38,
   "metadata": {},
   "outputs": [
    {
     "name": "stdout",
     "output_type": "stream",
     "text": [
      "[0.0, 0.2855694407477436, 0.5711388814954872, 0.8862474407477436, 1.1422777629909744, 1.4869254407477437, 1.7134166444864616, 2.0876034407477437, 2.2845555259819488, 2.688281440747744, 2.855694407477436, 3.2889594407477443]\n",
      "[0.2855694407477436, 0.8862474407477436, 1.4869254407477437, 2.0876034407477437, 2.688281440747744, 3.2889594407477443]\n",
      "[0.0, 0.5711388814954872, 1.1422777629909744, 1.7134166444864616, 2.2845555259819488, 2.855694407477436]\n",
      "[12.4, 6.4, 3.4, 1.6, 0.6, 0.2]\n",
      "[-18.0, -9.2, -4.8, -2.2, -0.9, -0.4]\n"
     ]
    }
   ],
   "source": [
    "T6 =0.2855694407477436\n",
    "\n",
    "x6max = []\n",
    "x6min = []\n",
    "\n",
    "y6=np.array([-18,12.4,-9.2,6.4,-4.8,3.4,-2.2,1.6,-0.9,0.6,-0.4,0.2])\n",
    "\n",
    "for i in range (6):\n",
    "    x6max.append((T0*i*2)+0.2855694407477436)\n",
    "\n",
    "for i in range (6):\n",
    "    x6min.append((T6*i*2))\n",
    "\n",
    "xt = np.sort(np.concatenate((x6max,x6min)))\n",
    "\n",
    "print(xt.tolist())\n",
    "print(x6max)\n",
    "print(x6min)\n",
    "print(y6[y6>0].tolist())\n",
    "print(y6[y6<0].tolist())\n",
    "\n",
    "yerror = 0.2"
   ]
  }
 ],
 "metadata": {
  "kernelspec": {
   "display_name": "Python 3",
   "language": "python",
   "name": "python3"
  },
  "language_info": {
   "codemirror_mode": {
    "name": "ipython",
    "version": 3
   },
   "file_extension": ".py",
   "mimetype": "text/x-python",
   "name": "python",
   "nbconvert_exporter": "python",
   "pygments_lexer": "ipython3",
   "version": "3.11.3"
  },
  "orig_nbformat": 4
 },
 "nbformat": 4,
 "nbformat_minor": 2
}
